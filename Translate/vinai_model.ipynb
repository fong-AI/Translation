{
 "cells": [
  {
   "cell_type": "code",
   "execution_count": 1,
   "metadata": {},
   "outputs": [
    {
     "name": "stderr",
     "output_type": "stream",
     "text": [
      "d:\\final_exam\\venv\\Lib\\site-packages\\tqdm\\auto.py:21: TqdmWarning: IProgress not found. Please update jupyter and ipywidgets. See https://ipywidgets.readthedocs.io/en/stable/user_install.html\n",
      "  from .autonotebook import tqdm as notebook_tqdm\n"
     ]
    }
   ],
   "source": [
    "from transformers import AutoTokenizer, AutoModelForSeq2SeqLM\n",
    "import sacrebleu\n",
    "import re"
   ]
  },
  {
   "cell_type": "code",
   "execution_count": 2,
   "metadata": {},
   "outputs": [],
   "source": [
    "tokenizer_en2vi = AutoTokenizer.from_pretrained(\"vinai/vinai-translate-en2vi-v2\", src_lang=\"en_XX\")\n",
    "model_en2vi = AutoModelForSeq2SeqLM.from_pretrained(\"vinai/vinai-translate-en2vi-v2\")"
   ]
  },
  {
   "cell_type": "code",
   "execution_count": 3,
   "metadata": {},
   "outputs": [],
   "source": [
    "def translate_en2vi(en_text: str) -> str:\n",
    "    input_ids = tokenizer_en2vi(en_text, return_tensors=\"pt\").input_ids\n",
    "    output_ids = model_en2vi.generate(\n",
    "        input_ids,\n",
    "        decoder_start_token_id=tokenizer_en2vi.lang_code_to_id[\"vi_VN\"],\n",
    "        num_return_sequences=1,\n",
    "        num_beams=5,\n",
    "        early_stopping=True\n",
    "    )\n",
    "    vi_text = tokenizer_en2vi.batch_decode(output_ids, skip_special_tokens=True)\n",
    "    vi_text = \" \".join(vi_text)\n",
    "    return vi_text"
   ]
  },
  {
   "cell_type": "code",
   "execution_count": 4,
   "metadata": {},
   "outputs": [
    {
     "name": "stdout",
     "output_type": "stream",
     "text": [
      "Báo cáo đó được viết bởi 620 nhà khoa học từ 40 quốc gia.\n"
     ]
    }
   ],
   "source": [
    "en_text = \"That report was written by 620 scientists from 40 countries .\"\n",
    "print(translate_en2vi(en_text))"
   ]
  },
  {
   "cell_type": "code",
   "execution_count": 11,
   "metadata": {},
   "outputs": [],
   "source": [
    "def read_data(source_file, target_file):\n",
    "    \"\"\"\n",
    "        Đọc dữ liệu từ 2 file source và target\n",
    "        Trả về: 1D array chứa các câu với từng source và target\n",
    "    \"\"\"\n",
    "    source_data = open(source_file, encoding='utf-8').read().strip().split(\"\\n\")\n",
    "    target_data = open(target_file, encoding='utf-8').read().strip().split(\"\\n\")\n",
    "    return source_data, target_data"
   ]
  },
  {
   "cell_type": "code",
   "execution_count": 12,
   "metadata": {},
   "outputs": [],
   "source": [
    "def preprocess_seq(seq):\n",
    "        seq = re.sub(\n",
    "        r\"[\\*\\\"“”\\n\\\\…\\+\\-\\/\\=\\(\\)‘•:\\[\\]\\|’\\!;]\", \" \", str(seq))\n",
    "        seq = re.sub(r\"[ ]+\", \" \", seq)\n",
    "        seq = re.sub(r\"\\!+\", \"!\", seq)\n",
    "        seq = re.sub(r\"\\,+\", \",\", seq)\n",
    "        seq = re.sub(r\"\\?+\", \"?\", seq)\n",
    "        seq = seq.lower()\n",
    "        return seq"
   ]
  },
  {
   "cell_type": "code",
   "execution_count": 13,
   "metadata": {},
   "outputs": [],
   "source": [
    "def calculate_bleu_score_vinai(configs):\n",
    "    valid_src_data, valid_trg_data = read_data('en_vi\\data\\tst2012.en', 'en_vi\\data\\tst2012.en')\n",
    "\n",
    "    pred_sents = []\n",
    "    for sentence in tqdm(valid_src_data):\n",
    "        pred_trg = translate_en2vi(sentence)\n",
    "        pred_sents.append(pred_trg)\n",
    "    \n",
    "    # write prediction to file\n",
    "    with open(\"./predict_valid_vinai.txt\", \"w\") as f:\n",
    "        for sent in pred_sents:\n",
    "            f.write(f\"{sent}\\n\")\n",
    "\n",
    "    hypotheses = [preprocess_seq(sent) for sent in pred_sents]\n",
    "    references = [[sent] for sent in valid_trg_data]\n",
    "    \n",
    "    return sacrebleu.corpus_bleu(hypotheses, references)"
   ]
  },
  {
   "cell_type": "code",
   "execution_count": 14,
   "metadata": {},
   "outputs": [],
   "source": [
    "valid_src_data, valid_trg_data = read_data('en_vi\\\\data\\\\tst2012.en', 'en_vi\\\\data\\\\tst2012.vi')"
   ]
  },
  {
   "cell_type": "code",
   "execution_count": 16,
   "metadata": {},
   "outputs": [],
   "source": [
    "hypotheses = open('predict_valid_vinai.txt', encoding='utf-8').read().strip().split(\"\\n\")"
   ]
  },
  {
   "cell_type": "code",
   "execution_count": 17,
   "metadata": {},
   "outputs": [],
   "source": [
    "hypotheses = [preprocess_seq(sent) for sent in hypotheses]"
   ]
  },
  {
   "cell_type": "code",
   "execution_count": 18,
   "metadata": {},
   "outputs": [],
   "source": [
    "references = [[sent] for sent in valid_trg_data]"
   ]
  },
  {
   "cell_type": "code",
   "execution_count": 19,
   "metadata": {},
   "outputs": [],
   "source": [
    "blue_score = sacrebleu.corpus_bleu(hypotheses, references)"
   ]
  },
  {
   "cell_type": "code",
   "execution_count": 20,
   "metadata": {},
   "outputs": [
    {
     "data": {
      "text/plain": [
       "39.88954172519978"
      ]
     },
     "execution_count": 20,
     "metadata": {},
     "output_type": "execute_result"
    }
   ],
   "source": [
    "blue_score.score"
   ]
  },
  {
   "cell_type": "code",
   "execution_count": null,
   "metadata": {},
   "outputs": [],
   "source": []
  }
 ],
 "metadata": {
  "kernelspec": {
   "display_name": "venv",
   "language": "python",
   "name": "python3"
  },
  "language_info": {
   "codemirror_mode": {
    "name": "ipython",
    "version": 3
   },
   "file_extension": ".py",
   "mimetype": "text/x-python",
   "name": "python",
   "nbconvert_exporter": "python",
   "pygments_lexer": "ipython3",
   "version": "3.11.5"
  }
 },
 "nbformat": 4,
 "nbformat_minor": 2
}
